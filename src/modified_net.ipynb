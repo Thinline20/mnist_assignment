{
 "cells": [
  {
   "cell_type": "code",
   "execution_count": 1,
   "metadata": {},
   "outputs": [],
   "source": [
    "import numpy as np\n",
    "import matplotlib.pyplot as plt\n",
    "\n",
    "from data.load_mnist import load_mnist\n",
    "from core.network.twolayernet import BackPropagationNet"
   ]
  },
  {
   "cell_type": "code",
   "execution_count": 2,
   "metadata": {},
   "outputs": [],
   "source": [
    "(X_train, T_train), (X_test, T_test) = load_mnist(normalize=True, one_hot_label=True)\n",
    "train_size = X_train.shape[0]"
   ]
  },
  {
   "cell_type": "markdown",
   "metadata": {},
   "source": [
    "## Activation Function variations\n",
    "\n",
    "### Mish"
   ]
  },
  {
   "cell_type": "code",
   "execution_count": null,
   "metadata": {},
   "outputs": [],
   "source": [
    "\n",
    "mish_network = BackPropagationNet(784, 50, 10)\n",
    "\n",
    "mish_iters_num = 10000\n",
    "mish_batch_size = 100\n",
    "mish_lr = 0.1\n",
    "\n",
    "mish_train_loss_list = []\n",
    "mish_train_acc_list = []\n",
    "mish_test_acc_list = []\n",
    "\n",
    "mish_iter_per_epoch = max(train_size / mish_batch_size, 1)\n",
    "\n",
    "for i in range(mish_iters_num):\n",
    "    batch_mask = np.random.choice(train_size, mish_batch_size)\n",
    "    X_batch = X_train[batch_mask]\n",
    "    T_batch = T_train[batch_mask]\n",
    "\n",
    "    grad = mish_network.gradient(X_batch, T_batch)\n",
    "\n",
    "    for key in (\"W1\", \"B1\", \"W2\", \"B2\"):\n",
    "        mish_network.params[key] -= mish_lr * grad[key]\n",
    "\n",
    "    loss = mish_network.loss(X_batch, T_batch)\n",
    "    mish_train_loss_list.append(loss)\n",
    "\n",
    "    if i % mish_iter_per_epoch == 0:\n",
    "        mish_train_acc = mish_network.accuracy(X_train, T_train)\n",
    "        mish_test_acc = mish_network.accuracy(X_test, T_test)\n",
    "        mish_train_acc_list.append(mish_train_acc)\n",
    "        mish_test_acc_list.append(mish_test_acc)\n",
    "\n",
    "        print(\"train acc, test acc | \" + str(mish_train_acc) + \", \" + str(mish_test_acc))"
   ]
  }
 ],
 "metadata": {
  "kernelspec": {
   "display_name": "Python 3.11.0 ('mnist')",
   "language": "python",
   "name": "python3"
  },
  "language_info": {
   "codemirror_mode": {
    "name": "ipython",
    "version": 3
   },
   "file_extension": ".py",
   "mimetype": "text/x-python",
   "name": "python",
   "nbconvert_exporter": "python",
   "pygments_lexer": "ipython3",
   "version": "3.11.0"
  },
  "orig_nbformat": 4,
  "vscode": {
   "interpreter": {
    "hash": "de61ffec59fec36cad9bdc7486a65e9b30bf8347b04efdc910bedc39e1efa32c"
   }
  }
 },
 "nbformat": 4,
 "nbformat_minor": 2
}
